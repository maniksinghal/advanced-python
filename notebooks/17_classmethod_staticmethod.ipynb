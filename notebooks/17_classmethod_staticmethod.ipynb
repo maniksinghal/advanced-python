{
 "cells": [
  {
   "cell_type": "markdown",
   "metadata": {},
   "source": [
    "\n",
    "## The @classmethod decorator\n",
    "* Method bound to the class and not the object\n",
    "* First argument is always the class name\n",
    "\n",
    "* Generally, they are useful to create factory methods."
   ]
  },
  {
   "cell_type": "code",
   "execution_count": 5,
   "metadata": {},
   "outputs": [
    {
     "name": "stdout",
     "output_type": "stream",
     "text": [
      "Ram is 24 (duh!!), Shyam is (calculated from birth-year) = 49\n"
     ]
    }
   ],
   "source": [
    "from datetime import date\n",
    "\n",
    "class Person:\n",
    "    def __init__(self, age):\n",
    "        self.age = age\n",
    "    \n",
    "    @classmethod\n",
    "    def create_person_from_birthyear_instead_of_age(cls, birthyear):\n",
    "        calculated_age = date.today().year - birthyear\n",
    "        return cls(calculated_age)\n",
    "\n",
    "Ram = Person(24)\n",
    "Shyam = Person.create_person_from_birthyear_instead_of_age(1974)\n",
    "print(f\"Ram is {Ram.age} (duh!!), Shyam is (calculated from birth-year) = {Shyam.age}\")"
   ]
  },
  {
   "cell_type": "markdown",
   "metadata": {},
   "source": [
    "## classmethod vs staticmethod\n",
    "* Both are bound to class\n",
    "* staticmethod don't take class parameter. They are not aware of class state."
   ]
  }
 ],
 "metadata": {
  "kernelspec": {
   "display_name": "Python 3",
   "language": "python",
   "name": "python3"
  },
  "language_info": {
   "codemirror_mode": {
    "name": "ipython",
    "version": 3
   },
   "file_extension": ".py",
   "mimetype": "text/x-python",
   "name": "python",
   "nbconvert_exporter": "python",
   "pygments_lexer": "ipython3",
   "version": "3.9.2"
  }
 },
 "nbformat": 4,
 "nbformat_minor": 4
}
