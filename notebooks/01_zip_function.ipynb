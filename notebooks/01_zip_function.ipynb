{
 "cells": [
  {
   "cell_type": "markdown",
   "metadata": {},
   "source": [
    "# Learn Python by doing #1\n",
    "## The zip function\n",
    "\n",
    "* Takes iterables (lists, dictionaries, tuples, strings, etc.) and \"zips\" them into tuples.\n",
    "* If inputs are different lengths, then produces tuples of only shortest-length input.\n",
    "  * Use zip_longest to work on longest length input. None element used corresponding to the other shorter lists.\n",
    "* Is used for parallel iteration\n",
    "* Returns a `zip` object, which is an iterator of tuples"
   ]
  },
  {
   "cell_type": "markdown",
   "metadata": {},
   "source": [
    "## Lists"
   ]
  },
  {
   "cell_type": "code",
   "execution_count": 17,
   "metadata": {},
   "outputs": [],
   "source": [
    "countries = [\"Ecuador\", \"Perú\", \"Colombia\", \"USA\", \"Chile\", \"India\"]       # India is an extra element. Does not get included in zip.\n",
    "capitals = [\"Quito\", \"Lima\", \"Bogotá\", \"Washington DC\", \"Santiago\"]\n",
    "cities = [\"Guayaquil\", \"Trujillo\", \"Medellín\", \"New York\", \"Valparaíso\"]\n",
    "countries_and_capitals = zip(countries, capitals, cities)"
   ]
  },
  {
   "cell_type": "code",
   "execution_count": 18,
   "metadata": {},
   "outputs": [
    {
     "data": {
      "text/plain": [
       "[('Ecuador', 'Quito', 'Guayaquil'),\n",
       " ('Perú', 'Lima', 'Trujillo'),\n",
       " ('Colombia', 'Bogotá', 'Medellín'),\n",
       " ('USA', 'Washington DC', 'New York'),\n",
       " ('Chile', 'Santiago', 'Valparaíso')]"
      ]
     },
     "execution_count": 18,
     "metadata": {},
     "output_type": "execute_result"
    }
   ],
   "source": [
    "list(countries_and_capitals)"
   ]
  },
  {
   "cell_type": "code",
   "execution_count": 12,
   "metadata": {},
   "outputs": [
    {
     "data": {
      "text/plain": [
       "('Ecuador', 'Quito', 'Guayaquil')"
      ]
     },
     "execution_count": 12,
     "metadata": {},
     "output_type": "execute_result"
    }
   ],
   "source": [
    "#Iterate through the zip using __next__()\n",
    "countries_and_capitals.__next__()   # <== Returns a list of element pairs"
   ]
  },
  {
   "cell_type": "code",
   "execution_count": 16,
   "metadata": {},
   "outputs": [
    {
     "name": "stdout",
     "output_type": "stream",
     "text": [
      "*Quito* is the capital of *Ecuador* and has city *Guayaquil*\n",
      "*Lima* is the capital of *Perú* and has city *Trujillo*\n",
      "*Bogotá* is the capital of *Colombia* and has city *Medellín*\n",
      "*Washington DC* is the capital of *USA* and has city *New York*\n",
      "*Santiago* is the capital of *Chile* and has city *Valparaíso*\n"
     ]
    }
   ],
   "source": [
    "#Iterate in a loop\n",
    "for cntry, cptl, ct in countries_and_capitals:\n",
    "    print(f\"*{cptl}* is the capital of *{cntry}* and has city *{ct}*\")"
   ]
  },
  {
   "cell_type": "markdown",
   "metadata": {},
   "source": [
    "## Dictionaries"
   ]
  },
  {
   "cell_type": "markdown",
   "metadata": {},
   "source": [
    "#### By default zip creates tuples of Keys for dictionaries"
   ]
  },
  {
   "cell_type": "code",
   "execution_count": 26,
   "metadata": {},
   "outputs": [],
   "source": [
    "products = {\"apple\": 0.5, \"pineapple\": 0.7}\n",
    "tech_products = {\"iPhone\": 1000, \"Windows\": 600}\n",
    "zip_keys = zip(products, tech_products)\n",
    "zip_values = zip(products.values(), tech_products.values())"
   ]
  },
  {
   "cell_type": "code",
   "execution_count": 27,
   "metadata": {},
   "outputs": [
    {
     "name": "stdout",
     "output_type": "stream",
     "text": [
      "[('apple', 'iPhone'), ('pineapple', 'Windows')]\n",
      "[(0.5, 1000), (0.7, 600)]\n"
     ]
    }
   ],
   "source": [
    "print(list(zip_keys))      # By default zip creates tuples of Keys\n",
    "print(list(zip_values))"
   ]
  },
  {
   "cell_type": "markdown",
   "metadata": {},
   "source": [
    "## Tuples"
   ]
  },
  {
   "cell_type": "code",
   "execution_count": 89,
   "metadata": {},
   "outputs": [],
   "source": [
    "countries = (\"Ecuador\", \"Perú\", \"Colombia\", \"USA\", \"Chile\")\n",
    "capitals = (\"Quito\", \"Lima\", \"Bogotá\", \"Washington DC\", \"Santiago\")\n",
    "cities = (\"Guayaquil\", \"Trujillo\", \"Medellín\", \"New York\", \"Valparaíso\")\n",
    "countries_and_capitals = zip(countries, capitals, cities)"
   ]
  },
  {
   "cell_type": "code",
   "execution_count": 90,
   "metadata": {},
   "outputs": [
    {
     "data": {
      "text/plain": [
       "[('Ecuador', 'Quito', 'Guayaquil'),\n",
       " ('Perú', 'Lima', 'Trujillo'),\n",
       " ('Colombia', 'Bogotá', 'Medellín'),\n",
       " ('USA', 'Washington DC', 'New York'),\n",
       " ('Chile', 'Santiago', 'Valparaíso')]"
      ]
     },
     "execution_count": 90,
     "metadata": {},
     "output_type": "execute_result"
    }
   ],
   "source": [
    "list(countries_and_capitals)"
   ]
  },
  {
   "cell_type": "markdown",
   "metadata": {},
   "source": [
    "## Strings"
   ]
  },
  {
   "cell_type": "markdown",
   "metadata": {},
   "source": [
    "#### For strings, each character gets included separately in the tuple"
   ]
  },
  {
   "cell_type": "code",
   "execution_count": 91,
   "metadata": {},
   "outputs": [],
   "source": [
    "country = \"Ecuador\"\n",
    "capital = \"Quito\"\n",
    "country_and_capital = zip(country, capital)"
   ]
  },
  {
   "cell_type": "code",
   "execution_count": 93,
   "metadata": {},
   "outputs": [
    {
     "data": {
      "text/plain": [
       "[('E', 'Q'), ('c', 'u'), ('u', 'i'), ('a', 't'), ('d', 'o')]"
      ]
     },
     "execution_count": 93,
     "metadata": {},
     "output_type": "execute_result"
    }
   ],
   "source": [
    "list(country_and_capital)"
   ]
  },
  {
   "cell_type": "markdown",
   "metadata": {},
   "source": [
    "## zip_longest example"
   ]
  },
  {
   "cell_type": "code",
   "execution_count": 28,
   "metadata": {},
   "outputs": [
    {
     "data": {
      "text/plain": [
       "[('Ecuador', 'Quito', 'Guayaquil'),\n",
       " ('Perú', 'Lima', 'Trujillo'),\n",
       " ('Colombia', 'Bogotá', 'Medellín'),\n",
       " ('USA', 'Washington DC', 'New York'),\n",
       " ('Chile', 'Santiago', 'Valparaíso'),\n",
       " ('India', 'Delhi', 'Delhi')]"
      ]
     },
     "execution_count": 28,
     "metadata": {},
     "output_type": "execute_result"
    }
   ],
   "source": [
    "from itertools import zip_longest\n",
    "countries = [\"Ecuador\", \"Perú\", \"Colombia\", \"USA\", \"Chile\", \"India\"]       # India is an extra element. Default value gets filled in for other inputs to zip\n",
    "capitals = [\"Quito\", \"Lima\", \"Bogotá\", \"Washington DC\", \"Santiago\"]\n",
    "cities = [\"Guayaquil\", \"Trujillo\", \"Medellín\", \"New York\", \"Valparaíso\"]\n",
    "countries_and_capitals = zip_longest(countries, capitals, cities, fillvalue=\"Delhi\")\n",
    "list(countries_and_capitals)"
   ]
  }
 ],
 "metadata": {
  "kernelspec": {
   "display_name": "Python 3",
   "language": "python",
   "name": "python3"
  },
  "language_info": {
   "codemirror_mode": {
    "name": "ipython",
    "version": 3
   },
   "file_extension": ".py",
   "mimetype": "text/x-python",
   "name": "python",
   "nbconvert_exporter": "python",
   "pygments_lexer": "ipython3",
   "version": "3.9.2"
  }
 },
 "nbformat": 4,
 "nbformat_minor": 4
}
