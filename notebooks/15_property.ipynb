{
 "cells": [
  {
   "cell_type": "markdown",
   "metadata": {},
   "source": [
    "# Learn Python by doing #15\n",
    "## The @property decorator\n",
    "* Define setters and getters of object members\n",
    "* Way to restrict/overload reading and writing of object members\n",
    "<br>\n",
    "* Getter invoked whenever member is read \n",
    "* Setter invoked whenever member is written to"
   ]
  },
  {
   "cell_type": "markdown",
   "metadata": {},
   "source": [
    "## Method 1\n",
    "* member = property(getter_fn, setter_fn)"
   ]
  },
  {
   "cell_type": "code",
   "execution_count": 32,
   "metadata": {},
   "outputs": [],
   "source": [
    "class Person:\n",
    "    def __init__(self, age):\n",
    "        self.age = age\n",
    "    \n",
    "    def age_getter(self):\n",
    "        print(\"Getting the age...\")\n",
    "        return self._age\n",
    "    \n",
    "    def age_setter(self, age):\n",
    "        if age < 0:\n",
    "            print(\"We cannot have negative ages\")\n",
    "        else:\n",
    "            print(\"Setting the age...\")\n",
    "            self._age = age\n",
    "    age = property(age_getter, age_setter)"
   ]
  },
  {
   "cell_type": "markdown",
   "metadata": {},
   "source": [
    "## Method 2\n",
    "* Use @property (getter) and @member.setter (setter) decorators over methods having same name as the member\n"
   ]
  },
  {
   "cell_type": "code",
   "execution_count": 9,
   "metadata": {},
   "outputs": [
    {
     "name": "stdout",
     "output_type": "stream",
     "text": [
      "Setting the age... to 20\n",
      "Getting the age... => 20\n",
      "20\n",
      "Setting the age... to 35\n"
     ]
    }
   ],
   "source": [
    "class Person:\n",
    "    def __init__(self, age):\n",
    "\n",
    "        #age is a property that uses the setters/getters to manipulate internal variable _inner_ager\n",
    "        self.age = age\n",
    "    \n",
    "    @property\n",
    "    def age(self):\n",
    "        print(f\"Getting the age... => {self._inner_age}\")\n",
    "        return self._inner_age\n",
    "    \n",
    "    @age.setter\n",
    "    def age(self, age):\n",
    "        if age < 0:\n",
    "            print(\"We cannot have negative ages\")\n",
    "        else:\n",
    "            print(f\"Setting the age... to {age}\")\n",
    "            self._inner_age = age\n",
    "\n",
    "p = Person(20)\n",
    "print(p.age)\n",
    "p.age = 35"
   ]
  }
 ],
 "metadata": {
  "kernelspec": {
   "display_name": "Python 3",
   "language": "python",
   "name": "python3"
  },
  "language_info": {
   "codemirror_mode": {
    "name": "ipython",
    "version": 3
   },
   "file_extension": ".py",
   "mimetype": "text/x-python",
   "name": "python",
   "nbconvert_exporter": "python",
   "pygments_lexer": "ipython3",
   "version": "3.9.2"
  }
 },
 "nbformat": 4,
 "nbformat_minor": 4
}
