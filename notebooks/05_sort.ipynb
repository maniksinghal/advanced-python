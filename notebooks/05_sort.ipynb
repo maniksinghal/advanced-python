{
 "cells": [
  {
   "cell_type": "markdown",
   "metadata": {},
   "source": [
    "# Learn Python by doing #5\n",
    "## Sort vs Sorted\n",
    "\n",
    "* The `sort` method only works for lists.\n",
    "  * It sorts in-place.\n",
    "\n",
    "\n",
    "* The `sorted` function works for any iterable.\n",
    "  * Returns copy of sorted iterable\n",
    "\n",
    "* You can specify the parameter `reverse` in both of them to sort descending.\n",
    "\n",
    "##### Key parameter\n",
    "* And you can also specify a key."
   ]
  },
  {
   "cell_type": "code",
   "execution_count": 2,
   "metadata": {},
   "outputs": [
    {
     "name": "stdout",
     "output_type": "stream",
     "text": [
      "['apple', 'grapes', 'pineapple', 'watermelon']\n"
     ]
    }
   ],
   "source": [
    "fruit_list : list() = [\"apple\", \"watermelon\", \"pineapple\", \"grapes\"]\n",
    "fruit_list.sort()     # <=  sort does sorting in-place\n",
    "print(fruit_list)"
   ]
  },
  {
   "cell_type": "code",
   "execution_count": 3,
   "metadata": {},
   "outputs": [
    {
     "name": "stdout",
     "output_type": "stream",
     "text": [
      "['apple', 'grapes', 'pineapple', 'watermelon']\n"
     ]
    }
   ],
   "source": [
    "fruits = {\"apple\": 40, \"watermelon\": 50, \"pineapple\":10, \"grapes\":15}\n",
    "print(sorted(fruits))     # Sorted returns copy of sorted list"
   ]
  },
  {
   "cell_type": "code",
   "execution_count": 42,
   "metadata": {},
   "outputs": [
    {
     "data": {
      "text/plain": [
       "['apple', 'grapes', 'pineapple', 'watermelon']"
      ]
     },
     "execution_count": 42,
     "metadata": {},
     "output_type": "execute_result"
    }
   ],
   "source": [
    "sorted(fruits)"
   ]
  },
  {
   "cell_type": "markdown",
   "metadata": {},
   "source": [
    "### Using Keys parameter\n",
    "* Every element to be sorted is passed to the specified key function\n",
    "* Sorting is done based on the value returned by the key function"
   ]
  },
  {
   "cell_type": "code",
   "execution_count": 4,
   "metadata": {},
   "outputs": [
    {
     "data": {
      "text/plain": [
       "['pineapple', 'grapes', 'apple', 'watermelon']"
      ]
     },
     "execution_count": 4,
     "metadata": {},
     "output_type": "execute_result"
    }
   ],
   "source": [
    "fruits = {\"apple\": 40, \"watermelon\": 50, \"pineapple\":10, \"grapes\":15}\n",
    "\n",
    "def sort_by_quantity(fruit_name):\n",
    "    return fruits[fruit_name]\n",
    "\n",
    "sorted(fruits, key=sort_by_quantity)"
   ]
  },
  {
   "cell_type": "code",
   "execution_count": 5,
   "metadata": {},
   "outputs": [
    {
     "data": {
      "text/plain": [
       "['pineapple', 'grapes', 'apple', 'watermelon']"
      ]
     },
     "execution_count": 5,
     "metadata": {},
     "output_type": "execute_result"
    }
   ],
   "source": [
    "# Replace sort_by_quantity with lambda function\n",
    "sorted(fruits, key=lambda fruit: fruits[fruit])"
   ]
  }
 ],
 "metadata": {
  "kernelspec": {
   "display_name": "Python 3",
   "language": "python",
   "name": "python3"
  },
  "language_info": {
   "codemirror_mode": {
    "name": "ipython",
    "version": 3
   },
   "file_extension": ".py",
   "mimetype": "text/x-python",
   "name": "python",
   "nbconvert_exporter": "python",
   "pygments_lexer": "ipython3",
   "version": "3.9.2"
  }
 },
 "nbformat": 4,
 "nbformat_minor": 4
}
