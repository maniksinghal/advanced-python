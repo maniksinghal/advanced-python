{
 "cells": [
  {
   "cell_type": "markdown",
   "metadata": {},
   "source": [
    "# Learn Python by doing #13\n",
    "## Decorators\n",
    "\n",
    "* Its a closure, that takes a function as an argument and adds more functionality to it"
   ]
  },
  {
   "cell_type": "code",
   "execution_count": 5,
   "metadata": {},
   "outputs": [],
   "source": [
    "def enhanced_greeter(orig_greet_fn):\n",
    "    def enhanced_logic(recipient):\n",
    "        orig_greet_fn(recipient)\n",
    "        print(f\"Good morning to you {recipient}\")\n",
    "    return enhanced_logic"
   ]
  },
  {
   "cell_type": "code",
   "execution_count": 8,
   "metadata": {},
   "outputs": [
    {
     "name": "stdout",
     "output_type": "stream",
     "text": [
      "Hello Manik.\n",
      "Good morning to you Manik\n"
     ]
    }
   ],
   "source": [
    "@enhanced_greeter\n",
    "def greet(recipient):\n",
    "    print(f\"Hello {recipient}.\")\n",
    "\n",
    "greet(\"Manik\")"
   ]
  },
  {
   "cell_type": "markdown",
   "metadata": {},
   "source": [
    "## A generic decorator example with *args, **kwargs"
   ]
  },
  {
   "cell_type": "code",
   "execution_count": 25,
   "metadata": {},
   "outputs": [
    {
     "name": "stdout",
     "output_type": "stream",
     "text": [
      "Hello Manik\n",
      "Total time taken is 0.0003440380096435547 seconds\n"
     ]
    }
   ],
   "source": [
    "import time\n",
    "\n",
    "def instrumenter(f):\n",
    "    def business_logic(*args, **kwargs):\n",
    "        start_time = time.time()\n",
    "        f(*args, **kwargs)\n",
    "        end_time = time.time()\n",
    "        exec_time = end_time - start_time\n",
    "        print(f\"Total time taken is {exec_time} seconds\")\n",
    "    return business_logic\n",
    "\n",
    "@instrumenter\n",
    "def say_hello(name):\n",
    "    print(f\"Hello {name}\")\n",
    "\n",
    "say_hello(\"Manik\") "
   ]
  },
  {
   "cell_type": "markdown",
   "metadata": {},
   "source": [
    "\n",
    "## Chaining decorators\n",
    "* Execution is from top to bottom decorators"
   ]
  },
  {
   "cell_type": "code",
   "execution_count": 28,
   "metadata": {},
   "outputs": [
    {
     "name": "stdout",
     "output_type": "stream",
     "text": [
      "Hello user\n",
      "Please have some coffee\n",
      "Here is the logic that you have to perform\n"
     ]
    }
   ],
   "source": [
    "def greet_user(func):\n",
    "    def business_logic(*args, **kwargs):\n",
    "        print(f\"Hello user\")\n",
    "        func(*args, **kwargs)\n",
    "    return business_logic\n",
    "\n",
    "def serve_coffee(func):\n",
    "    def business_logic(*args, **kwargs):\n",
    "        print(f\"Please have some coffee\")\n",
    "        func(*args, **kwargs)\n",
    "    return business_logic\n",
    "\n",
    "@greet_user\n",
    "@serve_coffee\n",
    "def get_down_to_business():\n",
    "    print(f\"Here is the logic that you have to perform\")\n",
    "\n",
    "get_down_to_business()"
   ]
  }
 ],
 "metadata": {
  "kernelspec": {
   "display_name": "Python 3",
   "language": "python",
   "name": "python3"
  },
  "language_info": {
   "codemirror_mode": {
    "name": "ipython",
    "version": 3
   },
   "file_extension": ".py",
   "mimetype": "text/x-python",
   "name": "python",
   "nbconvert_exporter": "python",
   "pygments_lexer": "ipython3",
   "version": "3.9.2"
  }
 },
 "nbformat": 4,
 "nbformat_minor": 4
}
