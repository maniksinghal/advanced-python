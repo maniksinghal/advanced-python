{
 "cells": [
  {
   "cell_type": "markdown",
   "metadata": {},
   "source": [
    "# Learn Python by doing #10\n",
    "## Any\n",
    "* Returns True if any element of an iterable is True and False otherwise.\n",
    "* At least one value is True $\\rightarrow$ True\n",
    "* All values are False $\\rightarrow$ False\n",
    "* Empty iterable $\\rightarrow$ False\n",
    "\n",
    "## All\n",
    "* Return True if all elements of an iterable is True and False otherwise.\n",
    "* At least one value is False $\\rightarrow$ False\n",
    "* All values are True $\\rightarrow$ True\n",
    "* Empty iterable $\\rightarrow$ True"
   ]
  },
  {
   "cell_type": "code",
   "execution_count": 1,
   "metadata": {},
   "outputs": [
    {
     "name": "stdout",
     "output_type": "stream",
     "text": [
      "[False, True, True, False]\n",
      "any: False\n",
      "all: True\n"
     ]
    }
   ],
   "source": [
    "#For some reason, its printing the other way round for me !!!\n",
    "\n",
    "fruits = [\"apple\", \"pineapple\", \"watermelon\", \"avocado\"]\n",
    "fruits_mapped = map(lambda fruit: len(fruit) > 8, fruits)\n",
    "print(list(fruits_mapped))\n",
    "print(f\"any: {any(fruits_mapped)}\")\n",
    "print(f\"all: {all(fruits_mapped)}\")"
   ]
  },
  {
   "cell_type": "code",
   "execution_count": 7,
   "metadata": {},
   "outputs": [
    {
     "data": {
      "text/plain": [
       "False"
      ]
     },
     "execution_count": 7,
     "metadata": {},
     "output_type": "execute_result"
    }
   ],
   "source": [
    "any(fruits_mapped)"
   ]
  },
  {
   "cell_type": "code",
   "execution_count": 8,
   "metadata": {},
   "outputs": [
    {
     "data": {
      "text/plain": [
       "True"
      ]
     },
     "execution_count": 8,
     "metadata": {},
     "output_type": "execute_result"
    }
   ],
   "source": [
    "all(fruits_mapped)"
   ]
  },
  {
   "cell_type": "markdown",
   "metadata": {},
   "source": [
    "## All\n",
    "* Return True if all elements of an iterable is True and False otherwise.\n",
    "* At least one value is False $\\rightarrow$ False\n",
    "* All values are True $\\rightarrow$ True\n",
    "* Empty iterable $\\rightarrow$ True"
   ]
  },
  {
   "cell_type": "code",
   "execution_count": 16,
   "metadata": {},
   "outputs": [
    {
     "name": "stdout",
     "output_type": "stream",
     "text": [
      "['apple', 'pineapple', 'watermelon', 'avocado']\n",
      "[False, True, True, False]\n"
     ]
    },
    {
     "data": {
      "text/plain": [
       "True"
      ]
     },
     "execution_count": 16,
     "metadata": {},
     "output_type": "execute_result"
    }
   ],
   "source": [
    "print(fruits)\n",
    "fruits_mapped = map(lambda fruit: len(fruit) > 8, fruits)\n",
    "print(list(fruits_mapped))\n",
    "all(fruits_mapped)"
   ]
  },
  {
   "cell_type": "code",
   "execution_count": null,
   "metadata": {},
   "outputs": [],
   "source": []
  }
 ],
 "metadata": {
  "kernelspec": {
   "display_name": "Python 3",
   "language": "python",
   "name": "python3"
  },
  "language_info": {
   "codemirror_mode": {
    "name": "ipython",
    "version": 3
   },
   "file_extension": ".py",
   "mimetype": "text/x-python",
   "name": "python",
   "nbconvert_exporter": "python",
   "pygments_lexer": "ipython3",
   "version": "3.9.2"
  }
 },
 "nbformat": 4,
 "nbformat_minor": 4
}
