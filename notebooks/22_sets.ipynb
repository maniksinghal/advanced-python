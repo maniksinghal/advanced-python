{
 "cells": [
  {
   "cell_type": "markdown",
   "metadata": {},
   "source": [
    "# Learn Python by doing #22\n",
    "\n",
    "## Sets\n",
    "\n",
    "* Unordered collection, without any duplicates\n",
    "* Highly optimized storage over lists"
   ]
  },
  {
   "cell_type": "code",
   "execution_count": 1,
   "metadata": {},
   "outputs": [
    {
     "data": {
      "text/plain": [
       "{'apple', 'grapes', 'watermelon'}"
      ]
     },
     "execution_count": 1,
     "metadata": {},
     "output_type": "execute_result"
    }
   ],
   "source": [
    "fruits = [\"apple\", \"apple\", \"apple\", \"watermelon\", \"grapes\", \"grapes\"]\n",
    "fruits_set = set(fruits)\n",
    "fruits_set"
   ]
  },
  {
   "cell_type": "markdown",
   "metadata": {},
   "source": [
    "# basic operations\n",
    "\n",
    "* .add(single_element)\n",
    "* .update([multiple, elements, at, once])\n",
    "\n",
    "* .remove(must_be_present_element)\n",
    "* .discard(possibly_non_existent_element)"
   ]
  },
  {
   "cell_type": "code",
   "execution_count": 4,
   "metadata": {},
   "outputs": [
    {
     "data": {
      "text/plain": [
       "{'Harrier', 'Innova', 'alcazar', 'ertiga', 'hycross'}"
      ]
     },
     "execution_count": 4,
     "metadata": {},
     "output_type": "execute_result"
    }
   ],
   "source": [
    "new_set = set()  # Start with an empty set\n",
    "\n",
    "#Add elements\n",
    "new_set.add(\"Innova\")\n",
    "new_set.add(\"Hydrer\")\n",
    "new_set.add(\"Harrier\")\n",
    "\n",
    "#Duplicate addition ignored\n",
    "new_set.add(\"Innova\")\n",
    "\n",
    "#Add multiple elements at once\n",
    "new_set.update([\"hycross\", \"ertiga\", \"alcazar\"])\n",
    "\n",
    "#Remove elements - element must be present or KeyError raised\n",
    "new_set.remove(\"Hydrer\")\n",
    "\n",
    "#Safely removing a possibly non-existent element\n",
    "new_set.discard(\"luna\")\n",
    "\n",
    "new_set"
   ]
  },
  {
   "cell_type": "markdown",
   "metadata": {},
   "source": [
    "# Set operations\n",
    "_set.operation(target)_   // Is set operation of/with target\n",
    "\n",
    "Operations:\n",
    "* issubset\n",
    "* issuperset\n",
    "* isdisjoint"
   ]
  },
  {
   "cell_type": "code",
   "execution_count": 4,
   "metadata": {},
   "outputs": [
    {
     "name": "stdout",
     "output_type": "stream",
     "text": [
      "Is subset? True\n"
     ]
    }
   ],
   "source": [
    "my_big_set = { \"apples\", \"oranges\", \"grapes\", \"watermelon\", \"lemon\", \"peach\"}\n",
    "my_small_set = {\"apples\", \"grapes\"}\n",
    "\n",
    "print(f\"Is subset? {my_small_set.issubset(my_big_set)}\")"
   ]
  }
 ],
 "metadata": {
  "kernelspec": {
   "display_name": "Python 3",
   "language": "python",
   "name": "python3"
  },
  "language_info": {
   "codemirror_mode": {
    "name": "ipython",
    "version": 3
   },
   "file_extension": ".py",
   "mimetype": "text/x-python",
   "name": "python",
   "nbconvert_exporter": "python",
   "pygments_lexer": "ipython3",
   "version": "3.9.2"
  }
 },
 "nbformat": 4,
 "nbformat_minor": 4
}
