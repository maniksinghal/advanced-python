{
 "cells": [
  {
   "cell_type": "markdown",
   "metadata": {},
   "source": [
    "# Learn Python by doing #22\n",
    "\n",
    "## Sets\n",
    "\n",
    "* Unordered collection, without any duplicates\n",
    "* Highly optimized storage over lists"
   ]
  },
  {
   "cell_type": "code",
   "execution_count": 1,
   "metadata": {},
   "outputs": [
    {
     "data": {
      "text/plain": [
       "{'apple', 'grapes', 'watermelon'}"
      ]
     },
     "execution_count": 1,
     "metadata": {},
     "output_type": "execute_result"
    }
   ],
   "source": [
    "fruits = [\"apple\", \"apple\", \"apple\", \"watermelon\", \"grapes\", \"grapes\"]\n",
    "fruits_set = set(fruits)\n",
    "fruits_set"
   ]
  },
  {
   "cell_type": "markdown",
   "metadata": {},
   "source": [
    "# basic operations\n",
    "\n",
    "* .add(single_element)\n",
    "* .update([multiple, elements, at, once])\n",
    "\n",
    "* .remove(must_be_present_element)\n",
    "* .discard(possibly_non_existent_element)"
   ]
  },
  {
   "cell_type": "code",
   "execution_count": 4,
   "metadata": {},
   "outputs": [
    {
     "data": {
      "text/plain": [
       "{'Harrier', 'Innova', 'alcazar', 'ertiga', 'hycross'}"
      ]
     },
     "execution_count": 4,
     "metadata": {},
     "output_type": "execute_result"
    }
   ],
   "source": [
    "new_set = set()  # Start with an empty set\n",
    "\n",
    "#Add elements\n",
    "new_set.add(\"Innova\")\n",
    "new_set.add(\"Hydrer\")\n",
    "new_set.add(\"Harrier\")\n",
    "\n",
    "#Duplicate addition ignored\n",
    "new_set.add(\"Innova\")\n",
    "\n",
    "#Add multiple elements at once\n",
    "new_set.update([\"hycross\", \"ertiga\", \"alcazar\"])\n",
    "\n",
    "#Remove elements - element must be present or KeyError raised\n",
    "new_set.remove(\"Hydrer\")\n",
    "\n",
    "#Safely removing a possibly non-existent element\n",
    "new_set.discard(\"luna\")\n",
    "\n",
    "new_set"
   ]
  },
  {
   "cell_type": "markdown",
   "metadata": {},
   "source": [
    "# Set operations\n",
    "_set.operation(target)_   // Is set operation of/with target\n",
    "\n",
    "Operations:\n",
    "* issubset\n",
    "* issuperset\n",
    "* isdisjoint"
   ]
  },
  {
   "cell_type": "code",
   "execution_count": 5,
   "metadata": {},
   "outputs": [
    {
     "name": "stdout",
     "output_type": "stream",
     "text": [
      "Is subset? True\n"
     ]
    }
   ],
   "source": [
    "my_big_set = { \"apples\", \"oranges\", \"grapes\", \"watermelon\", \"lemon\", \"peach\"}\n",
    "my_small_set = {\"apples\", \"grapes\"}\n",
    "\n",
    "print(f\"Is subset? {my_small_set.issubset(my_big_set)}\")"
   ]
  },
  {
   "cell_type": "markdown",
   "metadata": {},
   "source": [
    "## Union / Intersection / Difference\n",
    "\n",
    "## Union\n",
    "* set_a | set_b\n",
    "* set.union(another_set)\n",
    "* set.update(another_set)\n",
    "set_update |= set_another   #Updates the original set\n",
    "\n",
    "## Intersection\n",
    "* set_a & set_b\n",
    "* set.intersection(another_set)\n",
    "\n",
    "## Difference\n",
    "Any extra elements in set_b (below) are filtered out.\n",
    "* set_a - set_b\n",
    "* set_a.difference(set_b)\n",
    "\n",
    "## Symmetric difference (XOR)\n",
    "* set_a ^ set_b\n",
    "* set_a.symmetric_difference(set_b)\n",
    "\n",
    "\n",
    "## Modifying original set\n",
    "* Union: set_update |= set_another\n",
    "* Intersection:   set.intersection_update(another_set)\n",
    "* Difference:     set.difference_update(another_set)\n",
    "* Symmetric difference:   set.symmetric_difference_update(another_set)"
   ]
  },
  {
   "cell_type": "code",
   "execution_count": 11,
   "metadata": {},
   "outputs": [
    {
     "name": "stdout",
     "output_type": "stream",
     "text": [
      "Union: {'donkey', 'apple', 'ball', 'car'}\n",
      "Intersection: {'apple'}\n",
      "Difference: {'apple'}\n"
     ]
    }
   ],
   "source": [
    "set_a = {\"apple\", \"ball\"}\n",
    "set_b = {\"car\", \"donkey\", \"apple\"}\n",
    "set_c = {\"car\", \"donkey\", \"horse\"}\n",
    "print(f\"Union: {set_a | set_b}\")\n",
    "print(f\"Intersection: { set_a & set_b}\")\n",
    "print(f\"Difference: {set_b - set_c}\")\n"
   ]
  },
  {
   "cell_type": "markdown",
   "metadata": {},
   "source": [
    "## Frozen sets\n",
    "* Immutable (like a tuple)\n",
    "* Can also be used as a key to a dictionary, or as en element of another set\n",
    "  * Note that dictionaries, lists, sets require immutable obects as keys/items.\n",
    "\n",
    "* fronzenset([...])"
   ]
  },
  {
   "cell_type": "code",
   "execution_count": 12,
   "metadata": {},
   "outputs": [
    {
     "ename": "AttributeError",
     "evalue": "'frozenset' object has no attribute 'add'",
     "output_type": "error",
     "traceback": [
      "\u001b[0;31m---------------------------------------------------------------------------\u001b[0m",
      "\u001b[0;31mAttributeError\u001b[0m                            Traceback (most recent call last)",
      "Cell \u001b[0;32mIn[12], line 2\u001b[0m\n\u001b[1;32m      1\u001b[0m a \u001b[38;5;241m=\u001b[39m \u001b[38;5;28mfrozenset\u001b[39m()\n\u001b[0;32m----> 2\u001b[0m \u001b[43ma\u001b[49m\u001b[38;5;241;43m.\u001b[39;49m\u001b[43madd\u001b[49m(\u001b[38;5;241m25\u001b[39m)\n",
      "\u001b[0;31mAttributeError\u001b[0m: 'frozenset' object has no attribute 'add'"
     ]
    }
   ],
   "source": [
    "a = frozenset()\n",
    "a.add(25)"
   ]
  }
 ],
 "metadata": {
  "kernelspec": {
   "display_name": "Python 3",
   "language": "python",
   "name": "python3"
  },
  "language_info": {
   "codemirror_mode": {
    "name": "ipython",
    "version": 3
   },
   "file_extension": ".py",
   "mimetype": "text/x-python",
   "name": "python",
   "nbconvert_exporter": "python",
   "pygments_lexer": "ipython3",
   "version": "3.9.2"
  }
 },
 "nbformat": 4,
 "nbformat_minor": 4
}
