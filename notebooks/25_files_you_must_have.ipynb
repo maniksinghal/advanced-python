{
 "cells": [
  {
   "cell_type": "markdown",
   "metadata": {},
   "source": [
    "# Learn Python by doing #25\n",
    "\n",
    "## Files you must have in every project\n",
    "\n",
    "* The virtual environment \n",
    "* The `requirements.txt`\n",
    "* The `README.md`\n",
    "* The `.gitignore`"
   ]
  },
  {
   "cell_type": "markdown",
   "metadata": {},
   "source": [
    "## requirements.txt\n",
    "\n",
    "To install the requirements mentioned in requirements.txt\n",
    "```\n",
    "pip install -r requirements.txt\n",
    "```\n",
    "\n",
    "### requirements.txt example contents:\n",
    "```\n",
    "pandas       # Installs latest version\n",
    "python-dotenv\n",
    "```\n"
   ]
  }
 ],
 "metadata": {
  "kernelspec": {
   "display_name": "Python 3",
   "language": "python",
   "name": "python3"
  },
  "language_info": {
   "codemirror_mode": {
    "name": "ipython",
    "version": 3
   },
   "file_extension": ".py",
   "mimetype": "text/x-python",
   "name": "python",
   "nbconvert_exporter": "python",
   "pygments_lexer": "ipython3",
   "version": "3.6.9"
  }
 },
 "nbformat": 4,
 "nbformat_minor": 4
}
