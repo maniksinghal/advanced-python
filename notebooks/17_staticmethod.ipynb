{
 "cells": [
  {
   "cell_type": "markdown",
   "metadata": {},
   "source": [
    "# Learn Python by doing #17\n",
    "## The @staticmethod decorator\n",
    "### What is a static method? \n",
    "* Static methods, much like class methods, are methods that are bound to a class rather than its object.\n",
    "* They do not require a class instance creation. So, they are not dependent on the state of the object.\n",
    "* The difference between a static method and a class method is:\n",
    "    * Static method knows nothing about the class and just deals with the parameters.\n",
    "    * Class method works with the class since its parameter is always the class itself.\n",
    "    \n",
    "### When are they used?\n",
    "* Generally, they are useful to group utility functions to a class."
   ]
  },
  {
   "cell_type": "code",
   "execution_count": 11,
   "metadata": {},
   "outputs": [],
   "source": [
    "import time\n",
    "\n",
    "class Hour:\n",
    "    def __init__(self, seconds):\n",
    "        self.seconds = seconds\n",
    "    @staticmethod\n",
    "    def convert_seconds_to_hour(seconds):\n",
    "        return time.strftime(\"%H:%M:%S\", time.gmtime(seconds))\n",
    "    def display_hour(self):\n",
    "        hour = self.convert_seconds_to_hour(self.seconds)\n",
    "        print(f\"The hour is: {hour}\")"
   ]
  },
  {
   "cell_type": "code",
   "execution_count": 12,
   "metadata": {},
   "outputs": [],
   "source": [
    "hour_1 = Hour(65)"
   ]
  },
  {
   "cell_type": "code",
   "execution_count": 13,
   "metadata": {},
   "outputs": [
    {
     "name": "stdout",
     "output_type": "stream",
     "text": [
      "The hour is: 00:01:05\n"
     ]
    }
   ],
   "source": [
    "hour_1.display_hour()"
   ]
  },
  {
   "cell_type": "code",
   "execution_count": 14,
   "metadata": {},
   "outputs": [
    {
     "data": {
      "text/plain": [
       "'00:01:05'"
      ]
     },
     "execution_count": 14,
     "metadata": {},
     "output_type": "execute_result"
    }
   ],
   "source": [
    "Hour.convert_seconds_to_hour(65)"
   ]
  },
  {
   "cell_type": "code",
   "execution_count": null,
   "metadata": {},
   "outputs": [],
   "source": []
  }
 ],
 "metadata": {
  "kernelspec": {
   "display_name": "Python 3",
   "language": "python",
   "name": "python3"
  },
  "language_info": {
   "codemirror_mode": {
    "name": "ipython",
    "version": 3
   },
   "file_extension": ".py",
   "mimetype": "text/x-python",
   "name": "python",
   "nbconvert_exporter": "python",
   "pygments_lexer": "ipython3",
   "version": "3.6.9"
  }
 },
 "nbformat": 4,
 "nbformat_minor": 4
}
