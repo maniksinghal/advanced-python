{
 "cells": [
  {
   "cell_type": "markdown",
   "metadata": {},
   "source": [
    "# Learn Python by doing #6\n",
    "## The map function\n",
    "\n",
    "* Applies a given function to each item of an iterable (list, dictionary, strings, tuples etc )\n",
    "* Returns a map object (which is an iterator).\n",
    "* So basically, can transform (or create a new iterable from) an iterable by applying some processing on each of its elements\n",
    "* Use it instead of loops whenever you can!"
   ]
  },
  {
   "cell_type": "markdown",
   "metadata": {},
   "source": [
    "**Example:** Capitalize all the strings of a list"
   ]
  },
  {
   "cell_type": "code",
   "execution_count": 1,
   "metadata": {},
   "outputs": [],
   "source": [
    "fruits = [\"apple\", \"watermelon\", \"pineapple\", \"grapes\"]"
   ]
  },
  {
   "cell_type": "code",
   "execution_count": 47,
   "metadata": {},
   "outputs": [
    {
     "name": "stdout",
     "output_type": "stream",
     "text": [
      "['Apple', 'Watermelon', 'Pineapple', 'Grapes']\n"
     ]
    }
   ],
   "source": [
    "result = list()\n",
    "for fruit in fruits:\n",
    "    result.append(fruit.capitalize())\n",
    "print(result)"
   ]
  },
  {
   "cell_type": "code",
   "execution_count": 55,
   "metadata": {},
   "outputs": [],
   "source": [
    "def process(fruit):\n",
    "    resulting_string = fruit.capitalize()\n",
    "    if fruit.endswith(\"s\"):\n",
    "        resulting_string += \" are great!\"\n",
    "    else:\n",
    "        resulting_string += \" is great!\"\n",
    "    return resulting_string"
   ]
  },
  {
   "cell_type": "code",
   "execution_count": 56,
   "metadata": {},
   "outputs": [
    {
     "name": "stdout",
     "output_type": "stream",
     "text": [
      "['Apple is great!', 'Watermelon is great!', 'Pineapple is great!', 'Grapes are great!']\n"
     ]
    }
   ],
   "source": [
    "result = map(process, fruits)\n",
    "print(list(result))"
   ]
  },
  {
   "cell_type": "markdown",
   "metadata": {},
   "source": [
    "### Tried map with lambda in a single line to achieve above result"
   ]
  },
  {
   "cell_type": "code",
   "execution_count": 5,
   "metadata": {},
   "outputs": [
    {
     "name": "stdout",
     "output_type": "stream",
     "text": [
      "['apple  is great', 'watermelon  is great', 'pineapple  is great', 'grapes  are great']\n"
     ]
    }
   ],
   "source": [
    "result = map(lambda fruit : f\"{fruit} \" + (\" is great\" if not fruit.endswith(\"s\") else \" are great\"), fruits)\n",
    "print(list(result))"
   ]
  }
 ],
 "metadata": {
  "kernelspec": {
   "display_name": "Python 3",
   "language": "python",
   "name": "python3"
  },
  "language_info": {
   "codemirror_mode": {
    "name": "ipython",
    "version": 3
   },
   "file_extension": ".py",
   "mimetype": "text/x-python",
   "name": "python",
   "nbconvert_exporter": "python",
   "pygments_lexer": "ipython3",
   "version": "3.9.2"
  }
 },
 "nbformat": 4,
 "nbformat_minor": 4
}
