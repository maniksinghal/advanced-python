{
 "cells": [
  {
   "cell_type": "markdown",
   "metadata": {},
   "source": [
    "# Learn Python by doing #27\n",
    "\n",
    "## Custom exceptions\n",
    "\n",
    "* We can define our own custom exceptions in Python.\n",
    "* We just need to inherit from the Exception class!"
   ]
  },
  {
   "cell_type": "code",
   "execution_count": 1,
   "metadata": {},
   "outputs": [],
   "source": [
    "import random"
   ]
  },
  {
   "cell_type": "code",
   "execution_count": 2,
   "metadata": {},
   "outputs": [],
   "source": [
    "correct_number = random.randint(1, 10)"
   ]
  },
  {
   "cell_type": "code",
   "execution_count": 3,
   "metadata": {},
   "outputs": [],
   "source": [
    "class NumberTooSmall(Exception):\n",
    "    pass"
   ]
  },
  {
   "cell_type": "code",
   "execution_count": 4,
   "metadata": {},
   "outputs": [],
   "source": [
    "class NUmberTooBig(Exception):\n",
    "    pass"
   ]
  },
  {
   "cell_type": "code",
   "execution_count": 10,
   "metadata": {},
   "outputs": [
    {
     "name": "stdout",
     "output_type": "stream",
     "text": [
      "Enter your number: 4\n",
      "The number you entered is too small\n",
      "Enter your number: 5\n",
      "The number you entered is too small\n",
      "Enter your number: 6\n",
      "The number you entered is too small\n",
      "Enter your number: 7\n",
      "The number you entered is too small\n",
      "Enter your number: 8\n",
      "The number you entered is too small\n",
      "Enter your number: 9\n",
      "You guessed the number!\n"
     ]
    }
   ],
   "source": [
    "while True:\n",
    "    try:\n",
    "        n = int(input(\"Enter your number: \"))\n",
    "        if n < correct_number:\n",
    "            raise NumberTooSmall(\"The number you entered is too small\")\n",
    "        elif n > correct_number:\n",
    "            raise NumberTooBig(\"The number is too big\")\n",
    "        else:\n",
    "            print(\"You guessed the number!\")\n",
    "            break\n",
    "    except NumberTooSmall as error:\n",
    "        print(error)\n",
    "    except NumberTooBig as error:\n",
    "        print(error)\n",
    "    except ValueError:\n",
    "        print(\"You did not entered a number\")\n",
    "    "
   ]
  },
  {
   "cell_type": "code",
   "execution_count": null,
   "metadata": {},
   "outputs": [],
   "source": []
  }
 ],
 "metadata": {
  "kernelspec": {
   "display_name": "Python 3",
   "language": "python",
   "name": "python3"
  },
  "language_info": {
   "codemirror_mode": {
    "name": "ipython",
    "version": 3
   },
   "file_extension": ".py",
   "mimetype": "text/x-python",
   "name": "python",
   "nbconvert_exporter": "python",
   "pygments_lexer": "ipython3",
   "version": "3.6.9"
  }
 },
 "nbformat": 4,
 "nbformat_minor": 4
}
