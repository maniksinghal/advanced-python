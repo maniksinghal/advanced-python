{
 "cells": [
  {
   "cell_type": "markdown",
   "metadata": {},
   "source": [
    "# Learn Python by doing #11\n",
    "## Python closures\n",
    "\n",
    "* There are 3 things that we need in order to have a closure:\n",
    "    1. We must have a nested function\n",
    "    2. The nested function must refer to a value defined in the enclosing function\n",
    "    3. The enclosing function must return the nested function\n",
    "* Closures are useful for the next videos. So pay attention! "
   ]
  },
  {
   "cell_type": "markdown",
   "metadata": {},
   "source": [
    "## When to use closures?\n",
    "* Closures can avoid the use of classes to maintain data (especially when you require a single method), as it maintains the data passed in by the outer function.\n",
    "* Decorators!"
   ]
  },
  {
   "cell_type": "code",
   "execution_count": 1,
   "metadata": {},
   "outputs": [
    {
     "name": "stdout",
     "output_type": "stream",
     "text": [
      "Result is 35\n",
      "Result is 30\n"
     ]
    },
    {
     "data": {
      "text/plain": [
       "30"
      ]
     },
     "execution_count": 1,
     "metadata": {},
     "output_type": "execute_result"
    }
   ],
   "source": [
    "def multiplier(n):\n",
    "    def multiply(x):\n",
    "        result = x*n\n",
    "        print(f\"Result is {result}\")\n",
    "        return x*n\n",
    "    return multiply\n",
    "\n",
    "# Nested function returned by the outer function remembers the variables\n",
    "# (arguments to the outer function) available from the outer function (n in this case).\n",
    "multiplier_by_5 = multiplier(n=5)\n",
    "multiplier_by_10 = multiplier(n=10)\n",
    "\n",
    "multiplier_by_5(7)\n",
    "multiplier_by_10(3)"
   ]
  },
  {
   "cell_type": "markdown",
   "metadata": {},
   "source": [
    "## Inner function remains even if outer function is deleted "
   ]
  },
  {
   "cell_type": "code",
   "execution_count": 2,
   "metadata": {},
   "outputs": [
    {
     "name": "stdout",
     "output_type": "stream",
     "text": [
      "Hello manik\n"
     ]
    }
   ],
   "source": [
    "def greet_user(username):\n",
    "    def print_greeting():\n",
    "        print(\"Hello \" + username)\n",
    "    return print_greeting \n",
    "\n",
    "greeting_to_manik = greet_user(\"manik\")\n",
    "del greet_user\n",
    "greeting_to_manik()"
   ]
  },
  {
   "cell_type": "code",
   "execution_count": 19,
   "metadata": {},
   "outputs": [
    {
     "data": {
      "text/plain": [
       "35"
      ]
     },
     "execution_count": 19,
     "metadata": {},
     "output_type": "execute_result"
    }
   ],
   "source": [
    "multiplier_by_5(7)"
   ]
  },
  {
   "cell_type": "code",
   "execution_count": null,
   "metadata": {},
   "outputs": [],
   "source": []
  }
 ],
 "metadata": {
  "kernelspec": {
   "display_name": "Python 3",
   "language": "python",
   "name": "python3"
  },
  "language_info": {
   "codemirror_mode": {
    "name": "ipython",
    "version": 3
   },
   "file_extension": ".py",
   "mimetype": "text/x-python",
   "name": "python",
   "nbconvert_exporter": "python",
   "pygments_lexer": "ipython3",
   "version": "3.9.2"
  }
 },
 "nbformat": 4,
 "nbformat_minor": 4
}
