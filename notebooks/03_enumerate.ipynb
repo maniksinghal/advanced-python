{
 "cells": [
  {
   "cell_type": "markdown",
   "metadata": {},
   "source": [
    "# Learn Python by doing #3\n",
    "## The enumerate function\n",
    "\n",
    "* Adds a counter to an iterable (lists, dictionaries, tuples etc) and returns it as an enumerate object.\n",
    "* Useful when we want to track elements by their indexes.\n",
    "* The enumerate object (which is also an iterable) is usually used in for loops."
   ]
  },
  {
   "cell_type": "markdown",
   "metadata": {},
   "source": [
    "### Enumerate with lists"
   ]
  },
  {
   "cell_type": "code",
   "execution_count": 1,
   "metadata": {},
   "outputs": [
    {
     "name": "stdout",
     "output_type": "stream",
     "text": [
      "[(0, 'apple'), (1, 'pineapple'), (2, 'lemon'), (3, 'watermelon'), (4, 'grapes')]\n"
     ]
    }
   ],
   "source": [
    "fruits = [\"apple\", \"pineapple\", \"lemon\", \"watermelon\", \"grapes\"]\n",
    "enumerated_fruits = enumerate(fruits)\n",
    "print(list(enumerated_fruits))"
   ]
  },
  {
   "cell_type": "code",
   "execution_count": 2,
   "metadata": {},
   "outputs": [
    {
     "name": "stdout",
     "output_type": "stream",
     "text": [
      "[(10, 'apple'), (11, 'pineapple'), (12, 'lemon'), (13, 'watermelon'), (14, 'grapes')]\n"
     ]
    }
   ],
   "source": [
    "#Change the index values using start parameter\n",
    "fruits = [\"apple\", \"pineapple\", \"lemon\", \"watermelon\", \"grapes\"]\n",
    "enumerated_fruits = enumerate(fruits, start=10)\n",
    "print(list(enumerated_fruits))"
   ]
  },
  {
   "cell_type": "code",
   "execution_count": 16,
   "metadata": {},
   "outputs": [
    {
     "name": "stdout",
     "output_type": "stream",
     "text": [
      "file1.jpg\n",
      "file2.jpg\n",
      "file3.jpg\n",
      "file4.jpg\n",
      "file5.jpg\n"
     ]
    }
   ],
   "source": [
    "for index, element in enumerate(fruits, start=1):\n",
    "    filename = f\"file{index}.jpg\"\n",
    "    # do something with the file and the element\n",
    "    print(filename)"
   ]
  },
  {
   "cell_type": "code",
   "execution_count": 6,
   "metadata": {},
   "outputs": [
    {
     "name": "stdout",
     "output_type": "stream",
     "text": [
      "Enumeration of dict (default keys): [(0, 'first_name'), (1, 'last_name')]\n",
      "Enumeration of dict (default keys): [(0, 'Mani'), (1, 'Singhal')]\n"
     ]
    }
   ],
   "source": [
    "my_dict = { \"first_name\":\"Mani\", \"last_name\":\"Singhal\"}\n",
    "enum_dict = enumerate(my_dict)\n",
    "print(f\"Enumeration of dict (default keys): {list(enum_dict)}\")\n",
    "enum_values = enumerate(my_dict.values())\n",
    "print(f\"Enumeration of dict (default keys): {list(enum_values)}\")"
   ]
  }
 ],
 "metadata": {
  "kernelspec": {
   "display_name": "Python 3",
   "language": "python",
   "name": "python3"
  },
  "language_info": {
   "codemirror_mode": {
    "name": "ipython",
    "version": 3
   },
   "file_extension": ".py",
   "mimetype": "text/x-python",
   "name": "python",
   "nbconvert_exporter": "python",
   "pygments_lexer": "ipython3",
   "version": "3.9.2"
  }
 },
 "nbformat": 4,
 "nbformat_minor": 4
}
