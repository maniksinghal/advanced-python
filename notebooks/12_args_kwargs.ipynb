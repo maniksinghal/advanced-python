{
 "cells": [
  {
   "cell_type": "markdown",
   "metadata": {},
   "source": [
    "# Learn Python by doing #12\n",
    "## \\*args and \\**kwargs\n",
    "\n",
    "Single * => unnamed variables packed into tuple.   args = (a, b, c, d) <br>\n",
    "Double ** => named variables packed into a dictionary.  kwargs = { name1:value1, name2:value2, name3:value3, ...}"
   ]
  },
  {
   "cell_type": "markdown",
   "metadata": {},
   "source": [
    "## \\*args\n",
    "\n",
    "All variable number of arguments encapsulated in a single tuple"
   ]
  },
  {
   "cell_type": "code",
   "execution_count": 4,
   "metadata": {},
   "outputs": [
    {
     "name": "stdout",
     "output_type": "stream",
     "text": [
      "args is: (3, 4, 5, 6)\n",
      "Next element iterated in args: 3\n",
      "Next element iterated in args: 4\n",
      "Next element iterated in args: 5\n",
      "Next element iterated in args: 6\n"
     ]
    },
    {
     "data": {
      "text/plain": [
       "18"
      ]
     },
     "execution_count": 4,
     "metadata": {},
     "output_type": "execute_result"
    }
   ],
   "source": [
    "def add(*args):\n",
    "    print(f\"args is: {args}\")\n",
    "    for elem in args:\n",
    "        print(f\"Next element iterated in args: {elem}\")\n",
    "    return sum(args)\n",
    "\n",
    "add(3, 4, 5, 6)"
   ]
  },
  {
   "cell_type": "markdown",
   "metadata": {},
   "source": [
    "## \\**kwargs\n",
    "\n",
    "Pass named arguments and they are received as a dictionary inside the function"
   ]
  },
  {
   "cell_type": "code",
   "execution_count": 5,
   "metadata": {},
   "outputs": [
    {
     "name": "stdout",
     "output_type": "stream",
     "text": [
      "{'apple': 60, 'watermelon': 100, 'grapes': 200}\n",
      "apple 60\n",
      "watermelon 100\n",
      "grapes 200\n"
     ]
    }
   ],
   "source": [
    "def print_fruits(**kwargs):\n",
    "    print(kwargs)\n",
    "    for key, value in kwargs.items():\n",
    "        print(key, value)\n",
    "\n",
    "print_fruits(apple=60, watermelon=100, grapes=200)"
   ]
  },
  {
   "cell_type": "code",
   "execution_count": null,
   "metadata": {},
   "outputs": [],
   "source": []
  }
 ],
 "metadata": {
  "kernelspec": {
   "display_name": "Python 3",
   "language": "python",
   "name": "python3"
  },
  "language_info": {
   "codemirror_mode": {
    "name": "ipython",
    "version": 3
   },
   "file_extension": ".py",
   "mimetype": "text/x-python",
   "name": "python",
   "nbconvert_exporter": "python",
   "pygments_lexer": "ipython3",
   "version": "3.9.2"
  }
 },
 "nbformat": 4,
 "nbformat_minor": 4
}
