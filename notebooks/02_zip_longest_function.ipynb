{
 "cells": [
  {
   "cell_type": "markdown",
   "metadata": {},
   "source": [
    "# Learn Python by doing #2\n",
    "## The zip_longest function\n",
    "\n",
    "* Similar to the zip function\n",
    "* Takes into account the longest iterable passed."
   ]
  },
  {
   "cell_type": "markdown",
   "metadata": {},
   "source": [
    "## Lists"
   ]
  },
  {
   "cell_type": "code",
   "execution_count": 12,
   "metadata": {},
   "outputs": [],
   "source": [
    "from itertools import zip_longest"
   ]
  },
  {
   "cell_type": "code",
   "execution_count": 18,
   "metadata": {},
   "outputs": [],
   "source": [
    "countries = [\"Ecuador\", \"Perú\", \"Colombia\", \"USA\", \"Chile\"]\n",
    "capitals = [\"Quito\", \"Lima\", \"Bogotá\", \"Washington DC\"]\n",
    "cities = [\"Guayaquil\", \"Trujillo\", \"Medellín\", \"New York\"]\n",
    "countries_and_capitals = zip_longest(countries, capitals, cities, fillvalue=\"Valparaíso\")"
   ]
  },
  {
   "cell_type": "code",
   "execution_count": 19,
   "metadata": {},
   "outputs": [
    {
     "data": {
      "text/plain": [
       "[('Ecuador', 'Quito', 'Guayaquil'),\n",
       " ('Perú', 'Lima', 'Trujillo'),\n",
       " ('Colombia', 'Bogotá', 'Medellín'),\n",
       " ('USA', 'Washington DC', 'New York'),\n",
       " ('Chile', 'Valparaíso', 'Valparaíso')]"
      ]
     },
     "execution_count": 19,
     "metadata": {},
     "output_type": "execute_result"
    }
   ],
   "source": [
    "list(countries_and_capitals)"
   ]
  },
  {
   "cell_type": "code",
   "execution_count": null,
   "metadata": {},
   "outputs": [],
   "source": []
  }
 ],
 "metadata": {
  "kernelspec": {
   "display_name": "Python 3",
   "language": "python",
   "name": "python3"
  },
  "language_info": {
   "codemirror_mode": {
    "name": "ipython",
    "version": 3
   },
   "file_extension": ".py",
   "mimetype": "text/x-python",
   "name": "python",
   "nbconvert_exporter": "python",
   "pygments_lexer": "ipython3",
   "version": "3.6.9"
  }
 },
 "nbformat": 4,
 "nbformat_minor": 4
}
